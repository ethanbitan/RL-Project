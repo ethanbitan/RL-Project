{
 "cells": [
  {
   "cell_type": "code",
   "execution_count": null,
   "metadata": {},
   "outputs": [],
   "source": [
    "import csv\n",
    "import gym\n",
    "from gym import spaces\n",
    "import numpy as np\n",
    "from environment.environment import Environment\n",
    "from agents.mab_agent import MAB_Agent\n",
    "from agents.mc_agent import MC_Agent\n",
    "from agents.sarsa_agent import SARSA_Agent\n",
    "from train.train import train_agent\n",
    "import matplotlib.pyplot as plt"
   ]
  },
  {
   "cell_type": "code",
   "execution_count": null,
   "metadata": {},
   "outputs": [],
   "source": [
    "tickers = [\"AAPL\", \"AMZN\", \"GOOGL\", \"MSFT\", \"NVDA\", \"TSLA\"]\n",
    "\n",
    "data = {i: {t: float(row[t]) for t in tickers} \\\n",
    "    for i, row in enumerate(csv.DictReader( \\\n",
    "    open(\"data/nasdaq_stock_prices.csv\", mode='r'), delimiter=','))\n",
    "}"
   ]
  },
  {
   "cell_type": "code",
   "execution_count": null,
   "metadata": {},
   "outputs": [],
   "source": [
    "INITIAL_BALANCE = 10000\n",
    "WINDOW_SIZE = 2\n",
    "EPISODES = 100\n",
    "VERBOSE = False\n",
    "\n",
    "environment = Environment(data, window_size=WINDOW_SIZE, initial_balance=INITIAL_BALANCE, verbose=VERBOSE)\n",
    "sarsa_agent_optimal = SARSA_Agent(environment, epsilon=0.1, alpha=0.1, gamma=0.9)\n",
    "\n",
    "training = train_agent(sarsa_agent_optimal, environment, episodes=EPISODES, verbose=VERBOSE)\n",
    "training"
   ]
  },
  {
   "cell_type": "code",
   "execution_count": null,
   "metadata": {},
   "outputs": [],
   "source": [
    "INITIAL_BALANCE = 10000\n",
    "WINDOW_SIZE = 5\n",
    "EPISODES = 100\n",
    "VERBOSE = False\n",
    "\n",
    "environment = Environment(data, window_size=WINDOW_SIZE, initial_balance=INITIAL_BALANCE, verbose=VERBOSE)\n",
    "\n",
    "mab_agent_optimal = MAB_Agent(environment, epsilon=0.5)\n",
    "mab_agent_random = MAB_Agent(environment, epsilon=1.0)\n",
    "mab_agent_greedy = MAB_Agent(environment, epsilon=0.1)\n",
    "mc_agent_optimal = MC_Agent(environment, epsilon=0.5, gamma=0.7)\n",
    "mc_agent_random = MC_Agent(environment, epsilon=1.0, gamma=0.7)\n",
    "mc_agent_greedy = MC_Agent(environment, epsilon=0.1, gamma=0.7)\n",
    "sarsa_agent_optimal = SARSA_Agent(environment, epsilon=0.1, alpha=0.1, gamma=0.9)\n",
    "sarsa_agent_random = SARSA_Agent(environment, epsilon=1.0, alpha=0.1, gamma=0.9)\n",
    "sarsa_agent_greedy = SARSA_Agent(environment, epsilon=0.1, alpha=0.1, gamma=0.9)\n",
    "\n",
    "results_mab_mab_agent_optimal = train_agent(mab_agent_optimal, environment, episodes=EPISODES, verbose=VERBOSE)\n",
    "results_mab_agent_random = train_agent(mab_agent_random, environment, episodes=EPISODES, verbose=VERBOSE)\n",
    "results_mab_agent_greedy = train_agent(mab_agent_greedy, environment, episodes=EPISODES, verbose=VERBOSE)\n",
    "results_mc_agent_optimal = train_agent(mc_agent_optimal, environment, episodes=EPISODES, verbose=VERBOSE)\n",
    "results_mc_agent_random = train_agent(mc_agent_random, environment, episodes=EPISODES, verbose=VERBOSE)\n",
    "results_mc_agent_greedy = train_agent(mc_agent_greedy, environment, episodes=EPISODES, verbose=VERBOSE)\n",
    "results_sarsa_agent_optimal = train_agent(sarsa_agent_optimal, environment, episodes=EPISODES, verbose=VERBOSE)\n",
    "results_sarsa_agent_random = train_agent(sarsa_agent_random, environment, episodes=EPISODES, verbose=VERBOSE)\n",
    "results_sarsa_agent_greedy = train_agent(sarsa_agent_greedy, environment, episodes=EPISODES, verbose=VERBOSE)\n",
    "\n",
    "plt.plot(results_mab_agent_greedy, label=f\"Greedy {mab_agent_greedy.epsilon}\")\n",
    "plt.plot(results_mab_agent_random, label=f\"Random {mab_agent_random.epsilon}\")\n",
    "plt.plot(results_mab_mab_agent_optimal, label=f\"Optimal {mab_agent_optimal.epsilon}\")\n",
    "plt.plot(results_mc_agent_optimal, label=f\"MC {mc_agent_optimal.epsilon}\")\n",
    "plt.plot(results_mc_agent_random, label=f\"MC {mc_agent_random.epsilon}\")\n",
    "plt.plot(results_mc_agent_greedy, label=f\"MC {mc_agent_greedy.epsilon}\")\n",
    "plt.plot(results_sarsa_agent_optimal, label=f\"SARSA {sarsa_agent_optimal.epsilon}\")\n",
    "plt.plot(results_sarsa_agent_random, label=f\"SARSA {sarsa_agent_random.epsilon}\")\n",
    "plt.plot(results_sarsa_agent_greedy, label=f\"SARSA {sarsa_agent_greedy.epsilon}\")\n",
    "plt.legend()\n",
    "plt.title(\"Total rewards over episodes\")\n",
    "plt.xlabel(\"Episodes\")\n",
    "plt.ylabel(\"Total rewards\")\n",
    "plt.show()\n",
    "\n",
    "print(\"Greedy: \", np.mean(results_mab_agent_greedy))\n",
    "print(\"Random: \", np.mean(results_mab_agent_random))\n",
    "print(\"Optimal: \", np.mean(results_mab_mab_agent_optimal))\n",
    "print(\"MC Greedy: \", np.mean(results_mc_agent_greedy))\n",
    "print(\"MC Random: \", np.mean(results_mc_agent_random))\n",
    "print(\"MC Optimal: \", np.mean(results_mc_agent_optimal))\n",
    "print(\"SARSA Greedy: \", np.mean(results_sarsa_agent_greedy))\n",
    "print(\"SARSA Random: \", np.mean(results_sarsa_agent_random))\n",
    "print(\"SARSA Optimal: \", np.mean(results_sarsa_agent_optimal))"
   ]
  }
 ],
 "metadata": {
  "kernelspec": {
   "display_name": "virtenv-rl-course",
   "language": "python",
   "name": "python3"
  },
  "language_info": {
   "codemirror_mode": {
    "name": "ipython",
    "version": 3
   },
   "file_extension": ".py",
   "mimetype": "text/x-python",
   "name": "python",
   "nbconvert_exporter": "python",
   "pygments_lexer": "ipython3",
   "version": "3.11.11"
  }
 },
 "nbformat": 4,
 "nbformat_minor": 2
}
